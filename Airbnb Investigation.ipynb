{
 "cells": [
  {
   "cell_type": "markdown",
   "metadata": {},
   "source": [
    "# Airbnb Data\n",
    "\n",
    "Investigation of the NYC Airbnb Data"
   ]
  },
  {
   "cell_type": "code",
   "execution_count": 1,
   "metadata": {
    "collapsed": true
   },
   "outputs": [],
   "source": [
    "import csv"
   ]
  },
  {
   "cell_type": "code",
   "execution_count": 15,
   "metadata": {
    "collapsed": false
   },
   "outputs": [],
   "source": [
    "id_listing = {}\n",
    "with open ('jsons/nyclistings.csv', 'rb') as csvfile:\n",
    "    reader = csv.DictReader(csvfile)\n",
    "    for listing in reader:\n",
    "        id_listing[listing['id']] = listing"
   ]
  },
  {
   "cell_type": "code",
   "execution_count": 18,
   "metadata": {
    "collapsed": false
   },
   "outputs": [],
   "source": [
    "neighborhoods = set([id_listing[id]['neighbourhood'] for id in id_listing])"
   ]
  },
  {
   "cell_type": "code",
   "execution_count": 34,
   "metadata": {
    "collapsed": false
   },
   "outputs": [
    {
     "name": "stdout",
     "output_type": "stream",
     "text": [
      "{'Ozone Park': 34, 'Greenpoint': 981, 'Financial District': 413, 'Grymes Hill': 3, 'Williamsburg': 3756, 'West Village': 813, 'Windsor Terrace': 124, 'Dyker Heights': 20, 'Concourse': 46, 'Glen Oaks': 3, 'Port Richmond': 4, 'Cobble Hill': 87, 'Inwood': 224, 'Roosevelt Island': 59, 'Allerton': 19, 'Kingsbridge': 43, 'Rego Park': 70, 'Queens Village': 26, 'Prospect-Lefferts Gardens': 510, 'Rockaway Beach': 33, 'Jackson Heights': 141, 'Washington Heights': 850, 'North Riverdale': 5, 'Astoria': 728, 'Todt Hill': 2, 'Clinton Hill': 568, 'Gravesend': 36, 'University Heights': 15, 'Port Morris': 19, 'Fieldston': 12, 'Park Slope': 453, 'Kensington': 139, 'Chinatown': 356, 'Wakefield': 19, 'Corona': 63, 'Mount Eden': 4, 'East Elmhurst': 69, 'Downtown Brooklyn': 98, 'Cambria Heights': 12, 'Upper West Side': 1772, 'Harlem': 2510, 'Bay Ridge': 89, 'Dongan Hills': 2, 'Two Bridges': 53, 'Jamaica': 85, 'Huguenot': 1, 'Howard Beach': 10, 'Highbridge': 17, 'Brooklyn Heights': 117, 'Fort Greene': 436, 'New Dorp Beach': 1, 'NoHo': 81, 'Midwood': 93, 'East Village': 1900, 'Nolita': 289, 'South Slope': 272, 'Schuylerville': 5, 'Lower East Side': 971, 'Columbia St': 31, 'Baychester': 3, 'Pelham Bay': 10, 'Upper East Side': 1506, 'Mariners Harbor': 11, 'Sunnyside': 239, 'Woodlawn': 7, 'East New York': 120, 'Richmondtown': 3, 'Melrose': 4, 'Gramercy': 336, 'Castleton Corners': 4, 'Castle Hill': 1, 'Bronxdale': 15, 'Woodside': 117, 'Greenwich Village': 393, 'Forest Hills': 92, 'Concourse Village': 24, 'College Point': 10, 'Douglaston': 3, 'Arden Heights': 4, 'Westerleigh': 2, 'Middle Village': 18, 'Woodrow': 1, 'Bay Terrace': 6, 'West Farms': 6, 'Hollis Hills': 2, 'Elmhurst': 126, 'Randall Manor': 16, 'Bayswater': 7, 'Morris Heights': 12, 'Briarwood': 26, 'Jamaica Estates': 20, 'Flatlands': 48, 'Holliswood': 5, 'Rosebank': 1, 'Silver Lake': 1, 'Boerum Hill': 174, 'Claremont Village': 8, 'Edenwald': 3, 'Bergen Beach': 3, 'Williamsbridge': 21, 'Whitestone': 7, 'West Brighton': 8, 'Brownsville': 37, 'Bushwick': 1937, 'Eltingville': 3, 'Hunts Point': 4, 'Brighton Beach': 42, 'Red Hook': 63, 'City Island': 10, 'Midland Beach': 8, 'Battery Park City': 71, 'South Beach': 4, 'Borough Park': 85, 'Parkchester': 28, 'Ditmars Steinway': 262, 'Arrochar': 12, 'Manhattan Beach': 10, 'Emerson Hill': 7, 'Edgemere': 6, 'Gerritsen Beach': 3, 'Bensonhurst': 42, 'Coney Island': 12, 'Soundview': 4, 'Bayside': 39, 'Morningside Heights': 374, 'Morrisania': 8, 'Clason Point': 21, 'Cypress Hills': 71, 'Tompkinsville': 26, 'Flushing': 230, 'Little Italy': 94, 'Unionport': 3, 'East Harlem': 1044, 'Arverne': 76, 'Belmont': 5, 'Mott Haven': 45, 'Pelham Gardens': 10, 'Sea Gate': 8, 'Stuyvesant Town': 41, 'Carroll Gardens': 221, 'Marble Hill': 12, 'St. Albans': 47, 'Tottenville': 3, 'Flatbush': 545, 'Mill Basin': 1, 'Richmond Hill': 47, 'Gowanus': 167, 'Westchester Square': 2, 'Vinegar Hill': 24, 'Canarsie': 69, 'Shore Acres': 8, 'Norwood': 28, 'Lighthouse Hill': 1, 'Bath Beach': 8, 'Great Kills': 3, 'Theater District': 158, 'Midtown': 969, 'East Morrisania': 4, 'South Ozone Park': 16, 'Chelsea': 1108, 'Bay Terrace, Staten Island': 1, 'Civic Center': 41, 'Murray Hill': 257, 'Laurelton': 9, 'Concord': 11, 'Tremont': 4, 'Riverdale': 14, 'Van Nest': 9, 'Kew Gardens Hills': 15, 'Jamaica Hills': 4, 'Fresh Meadows': 19, 'New Springville': 5, 'St. George': 46, 'DUMBO': 25, 'Throgs Neck': 5, 'Oakwood': 2, 'Flatiron District': 95, 'Springfield Gardens': 22, 'Olinville': 1, 'Navy Yard': 11, 'Co-op City': 5, 'Crown Heights': 1303, 'Stapleton': 14, 'Mount Hope': 6, 'Bellerose': 10, 'SoHo': 362, 'Belle Harbor': 5, 'Bedford-Stuyvesant': 2807, 'Sheepshead Bay': 147, 'Far Rockaway': 27, 'Ridgewood': 303, 'Long Island City': 431, 'Morris Park': 4, 'Tribeca': 158, 'Fort Hamilton': 50, 'Sunset Park': 308, 'Country Club': 1, 'Maspeth': 76, 'Prospect Heights': 326, 'Hollis': 10, 'Longwood': 31, 'Kips Bay': 418, 'Glendale': 18, \"Hell's Kitchen\": 1554, 'East Flatbush': 267, 'Woodhaven': 35, 'Fordham': 20, 'Rosedale': 24, 'Eastchester': 11, 'Clifton': 12, 'Graniteville': 2, 'Spuyten Duyvil': 13, 'Howland Hook': 2, 'New Brighton': 3, 'Kew Gardens': 26}\n"
     ]
    }
   ],
   "source": [
    "neighborhoods_values = {}\n",
    "for id in id_listing:\n",
    "    val = id_listing[id]\n",
    "    neighborhood = val['neighbourhood']\n",
    "    if neighborhood in neighborhoods_values:\n",
    "        neighborhoods_values[neighborhood] += 1\n",
    "    else:\n",
    "        neighborhoods_values[neighborhood] = 1\n",
    "print(neighborhoods_values)"
   ]
  },
  {
   "cell_type": "code",
   "execution_count": 26,
   "metadata": {
    "collapsed": true
   },
   "outputs": [],
   "source": [
    "sort_me = [ (neighborhood, neighborhoods_values[neighborhood]) for neighborhood in neighborhoods_values]"
   ]
  },
  {
   "cell_type": "code",
   "execution_count": 28,
   "metadata": {
    "collapsed": false
   },
   "outputs": [],
   "source": [
    "res = sorted(neighborhoods_values, key = neighborhoods_values.__getitem__, reverse = True)"
   ]
  },
  {
   "cell_type": "code",
   "execution_count": 38,
   "metadata": {
    "collapsed": false
   },
   "outputs": [
    {
     "name": "stdout",
     "output_type": "stream",
     "text": [
      "('Williamsburg', 3756)\n",
      "('Bedford-Stuyvesant', 2807)\n",
      "('Harlem', 2510)\n",
      "('Bushwick', 1937)\n",
      "('East Village', 1900)\n",
      "('Upper West Side', 1772)\n",
      "(\"Hell's Kitchen\", 1554)\n",
      "('Upper East Side', 1506)\n",
      "('Crown Heights', 1303)\n",
      "('Chelsea', 1108)\n",
      "('East Harlem', 1044)\n",
      "('Greenpoint', 981)\n",
      "('Lower East Side', 971)\n",
      "('Midtown', 969)\n",
      "('Washington Heights', 850)\n",
      "('West Village', 813)\n",
      "('Astoria', 728)\n",
      "('Clinton Hill', 568)\n",
      "('Flatbush', 545)\n",
      "('Prospect-Lefferts Gardens', 510)\n",
      "('Park Slope', 453)\n",
      "('Fort Greene', 436)\n",
      "('Long Island City', 431)\n",
      "('Kips Bay', 418)\n",
      "('Financial District', 413)\n",
      "('Greenwich Village', 393)\n",
      "('Morningside Heights', 374)\n",
      "('SoHo', 362)\n",
      "('Chinatown', 356)\n",
      "('Gramercy', 336)\n",
      "('Prospect Heights', 326)\n",
      "('Sunset Park', 308)\n",
      "('Ridgewood', 303)\n",
      "('Nolita', 289)\n",
      "('South Slope', 272)\n",
      "('East Flatbush', 267)\n",
      "('Ditmars Steinway', 262)\n",
      "('Murray Hill', 257)\n",
      "('Sunnyside', 239)\n",
      "('Flushing', 230)\n",
      "('Inwood', 224)\n",
      "('Carroll Gardens', 221)\n",
      "('Boerum Hill', 174)\n",
      "('Gowanus', 167)\n",
      "('Theater District', 158)\n",
      "('Tribeca', 158)\n",
      "('Sheepshead Bay', 147)\n",
      "('Jackson Heights', 141)\n",
      "('Kensington', 139)\n",
      "('Elmhurst', 126)\n",
      "('Windsor Terrace', 124)\n",
      "('East New York', 120)\n",
      "('Brooklyn Heights', 117)\n",
      "('Woodside', 117)\n",
      "('Downtown Brooklyn', 98)\n",
      "('Flatiron District', 95)\n",
      "('Little Italy', 94)\n",
      "('Midwood', 93)\n",
      "('Forest Hills', 92)\n",
      "('Bay Ridge', 89)\n",
      "('Cobble Hill', 87)\n",
      "('Jamaica', 85)\n",
      "('Borough Park', 85)\n",
      "('NoHo', 81)\n",
      "('Arverne', 76)\n",
      "('Maspeth', 76)\n",
      "('Battery Park City', 71)\n",
      "('Cypress Hills', 71)\n",
      "('Rego Park', 70)\n",
      "('East Elmhurst', 69)\n",
      "('Canarsie', 69)\n",
      "('Corona', 63)\n",
      "('Red Hook', 63)\n",
      "('Roosevelt Island', 59)\n",
      "('Two Bridges', 53)\n",
      "('Fort Hamilton', 50)\n",
      "('Flatlands', 48)\n",
      "('St. Albans', 47)\n",
      "('Richmond Hill', 47)\n",
      "('Concourse', 46)\n",
      "('St. George', 46)\n",
      "('Mott Haven', 45)\n",
      "('Kingsbridge', 43)\n",
      "('Brighton Beach', 42)\n",
      "('Bensonhurst', 42)\n",
      "('Stuyvesant Town', 41)\n",
      "('Civic Center', 41)\n",
      "('Bayside', 39)\n",
      "('Brownsville', 37)\n",
      "('Gravesend', 36)\n",
      "('Woodhaven', 35)\n",
      "('Ozone Park', 34)\n",
      "('Rockaway Beach', 33)\n",
      "('Columbia St', 31)\n",
      "('Longwood', 31)\n",
      "('Parkchester', 28)\n",
      "('Norwood', 28)\n",
      "('Far Rockaway', 27)\n",
      "('Queens Village', 26)\n",
      "('Briarwood', 26)\n",
      "('Tompkinsville', 26)\n",
      "('Kew Gardens', 26)\n",
      "('DUMBO', 25)\n",
      "('Concourse Village', 24)\n",
      "('Vinegar Hill', 24)\n",
      "('Rosedale', 24)\n",
      "('Springfield Gardens', 22)\n",
      "('Williamsbridge', 21)\n",
      "('Clason Point', 21)\n",
      "('Dyker Heights', 20)\n",
      "('Jamaica Estates', 20)\n",
      "('Fordham', 20)\n",
      "('Allerton', 19)\n",
      "('Port Morris', 19)\n",
      "('Wakefield', 19)\n",
      "('Fresh Meadows', 19)\n",
      "('Middle Village', 18)\n",
      "('Glendale', 18)\n",
      "('Highbridge', 17)\n",
      "('Randall Manor', 16)\n",
      "('South Ozone Park', 16)\n",
      "('University Heights', 15)\n",
      "('Bronxdale', 15)\n",
      "('Kew Gardens Hills', 15)\n",
      "('Riverdale', 14)\n",
      "('Stapleton', 14)\n",
      "('Spuyten Duyvil', 13)\n",
      "('Fieldston', 12)\n",
      "('Cambria Heights', 12)\n",
      "('Morris Heights', 12)\n",
      "('Arrochar', 12)\n",
      "('Coney Island', 12)\n",
      "('Marble Hill', 12)\n",
      "('Clifton', 12)\n",
      "('Mariners Harbor', 11)\n",
      "('Concord', 11)\n",
      "('Navy Yard', 11)\n",
      "('Eastchester', 11)\n",
      "('Howard Beach', 10)\n",
      "('Pelham Bay', 10)\n",
      "('College Point', 10)\n",
      "('City Island', 10)\n",
      "('Manhattan Beach', 10)\n",
      "('Pelham Gardens', 10)\n",
      "('Bellerose', 10)\n",
      "('Hollis', 10)\n",
      "('Laurelton', 9)\n",
      "('Van Nest', 9)\n",
      "('Claremont Village', 8)\n",
      "('West Brighton', 8)\n",
      "('Midland Beach', 8)\n",
      "('Morrisania', 8)\n",
      "('Sea Gate', 8)\n",
      "('Shore Acres', 8)\n",
      "('Bath Beach', 8)\n",
      "('Woodlawn', 7)\n",
      "('Bayswater', 7)\n",
      "('Whitestone', 7)\n",
      "('Emerson Hill', 7)\n",
      "('Bay Terrace', 6)\n",
      "('West Farms', 6)\n",
      "('Edgemere', 6)\n",
      "('Mount Hope', 6)\n",
      "('North Riverdale', 5)\n",
      "('Schuylerville', 5)\n",
      "('Holliswood', 5)\n",
      "('Belmont', 5)\n",
      "('New Springville', 5)\n",
      "('Throgs Neck', 5)\n",
      "('Co-op City', 5)\n",
      "('Belle Harbor', 5)\n",
      "('Port Richmond', 4)\n",
      "('Mount Eden', 4)\n",
      "('Melrose', 4)\n",
      "('Castleton Corners', 4)\n",
      "('Arden Heights', 4)\n",
      "('Hunts Point', 4)\n",
      "('South Beach', 4)\n",
      "('Soundview', 4)\n",
      "('East Morrisania', 4)\n",
      "('Tremont', 4)\n",
      "('Jamaica Hills', 4)\n",
      "('Morris Park', 4)\n",
      "('Grymes Hill', 3)\n",
      "('Glen Oaks', 3)\n",
      "('Baychester', 3)\n",
      "('Richmondtown', 3)\n",
      "('Douglaston', 3)\n",
      "('Edenwald', 3)\n",
      "('Bergen Beach', 3)\n",
      "('Eltingville', 3)\n",
      "('Gerritsen Beach', 3)\n",
      "('Unionport', 3)\n",
      "('Tottenville', 3)\n",
      "('Great Kills', 3)\n",
      "('New Brighton', 3)\n",
      "('Todt Hill', 2)\n",
      "('Dongan Hills', 2)\n",
      "('Westerleigh', 2)\n",
      "('Hollis Hills', 2)\n",
      "('Westchester Square', 2)\n",
      "('Oakwood', 2)\n",
      "('Graniteville', 2)\n",
      "('Howland Hook', 2)\n",
      "('Huguenot', 1)\n",
      "('New Dorp Beach', 1)\n",
      "('Castle Hill', 1)\n",
      "('Woodrow', 1)\n",
      "('Rosebank', 1)\n",
      "('Silver Lake', 1)\n",
      "('Mill Basin', 1)\n",
      "('Lighthouse Hill', 1)\n",
      "('Bay Terrace, Staten Island', 1)\n",
      "('Olinville', 1)\n",
      "('Country Club', 1)\n"
     ]
    }
   ],
   "source": [
    "for neighborhood in res:\n",
    "    n = neighborhoods_values[neighborhood]\n",
    "    print(neighborhood, n)\n"
   ]
  },
  {
   "cell_type": "code",
   "execution_count": null,
   "metadata": {
    "collapsed": true
   },
   "outputs": [],
   "source": []
  }
 ],
 "metadata": {
  "kernelspec": {
   "display_name": "Python 2",
   "language": "python",
   "name": "python2"
  },
  "language_info": {
   "codemirror_mode": {
    "name": "ipython",
    "version": 2
   },
   "file_extension": ".py",
   "mimetype": "text/x-python",
   "name": "python",
   "nbconvert_exporter": "python",
   "pygments_lexer": "ipython2",
   "version": "2.7.13"
  }
 },
 "nbformat": 4,
 "nbformat_minor": 2
}
