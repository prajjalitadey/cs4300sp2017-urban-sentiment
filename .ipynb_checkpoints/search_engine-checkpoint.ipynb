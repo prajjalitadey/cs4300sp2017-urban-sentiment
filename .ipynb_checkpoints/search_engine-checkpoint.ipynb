{
 "cells": [
  {
   "cell_type": "markdown",
   "metadata": {},
   "source": [
    "# Airbnb Data\n",
    "\n",
    "Investigation of the NYC Airbnb Data"
   ]
  },
  {
   "cell_type": "code",
   "execution_count": 1,
   "metadata": {
    "collapsed": false
   },
   "outputs": [],
   "source": [
    "import sys\n",
    "# import textmining\n",
    "import numpy as np\n",
    "from __future__ import print_function\n",
    "from sklearn.feature_extraction.text import TfidfVectorizer\n",
    "import json\n",
    "%matplotlib inline\n",
    "import matplotlib.pyplot as plt\n",
    "from nltk.tokenize import TreebankWordTokenizer\n",
    "import copy\n",
    "from bs4 import UnicodeDammit\n",
    "#encoding='latin-1'"
   ]
  },
  {
   "cell_type": "code",
   "execution_count": 2,
   "metadata": {
    "collapsed": false
   },
   "outputs": [],
   "source": [
    "#Making dictionaries for pre-processing\n",
    "import csv\n",
    "reviewsfile = open('jsons/nycreviews.csv', 'rb')\n",
    "rvreader = csv.reader(reviewsfile)\n",
    "reviews = {}\n",
    "for row in rvreader:\n",
    "    listing_id = row[0]\n",
    "    comment = row[5]\n",
    "    if listing_id in reviews.keys():\n",
    "        reviews[listing_id].append(comment)\n",
    "    else:\n",
    "        reviews[listing_id] = [comment]"
   ]
  },
  {
   "cell_type": "code",
   "execution_count": 3,
   "metadata": {
    "collapsed": false
   },
   "outputs": [],
   "source": [
    "#Dictionary for nyc listings\n",
    "listingsfile = open('jsons/nyclistings.csv', 'rb')\n",
    "listingsreader = csv.reader(listingsfile)\n",
    "listings = {}\n",
    "for row in listingsreader:\n",
    "    if row[5] != \"neighbourhood\":\n",
    "        listing_id = row[0]\n",
    "        neighborhood = row[5]\n",
    "        if neighborhood in listings.keys():\n",
    "            listings[neighborhood].append(listing_id)\n",
    "        else:\n",
    "            listings[neighborhood] = [listing_id]"
   ]
  },
  {
   "cell_type": "code",
   "execution_count": 4,
   "metadata": {
    "collapsed": true
   },
   "outputs": [],
   "source": [
    "# listings_reviews -> all reviews for all places within a particular neighborhood\n",
    "listings_reviews = {}\n",
    "for neighborhood,listing_ids in listings.iteritems():\n",
    "    nested_list = [reviews[listing] for listing in listing_ids if listing in reviews.keys()]\n",
    "    listings_reviews[neighborhood] = [item for sublist in nested_list for item in sublist]"
   ]
  },
  {
   "cell_type": "code",
   "execution_count": 5,
   "metadata": {
    "collapsed": true
   },
   "outputs": [],
   "source": [
    "neighborhoods = listings.keys()"
   ]
  },
  {
   "cell_type": "code",
   "execution_count": null,
   "metadata": {
    "collapsed": false
   },
   "outputs": [
    {
     "name": "stderr",
     "output_type": "stream",
     "text": [
      "WARNING:root:Some characters could not be decoded, and were replaced with REPLACEMENT CHARACTER.\n"
     ]
    },
    {
     "name": "stdout",
     "output_type": "stream",
     "text": [
      "Ozone Park\n",
      "Greenpoint"
     ]
    },
    {
     "name": "stderr",
     "output_type": "stream",
     "text": [
      "WARNING:root:Some characters could not be decoded, and were replaced with REPLACEMENT CHARACTER.\n",
      "WARNING:root:Some characters could not be decoded, and were replaced with REPLACEMENT CHARACTER.\n",
      "WARNING:root:Some characters could not be decoded, and were replaced with REPLACEMENT CHARACTER.\n",
      "WARNING:root:Some characters could not be decoded, and were replaced with REPLACEMENT CHARACTER.\n",
      "WARNING:root:Some characters could not be decoded, and were replaced with REPLACEMENT CHARACTER.\n",
      "WARNING:root:Some characters could not be decoded, and were replaced with REPLACEMENT CHARACTER.\n",
      "WARNING:root:Some characters could not be decoded, and were replaced with REPLACEMENT CHARACTER.\n"
     ]
    },
    {
     "name": "stdout",
     "output_type": "stream",
     "text": [
      "\n",
      "Financial District\n",
      "Kensington\n",
      "Mount Eden\n",
      "Ridgewood\n",
      "Cambria Heights\n",
      "Concourse\n"
     ]
    },
    {
     "name": "stderr",
     "output_type": "stream",
     "text": [
      "WARNING:root:Some characters could not be decoded, and were replaced with REPLACEMENT CHARACTER.\n",
      "WARNING:root:Some characters could not be decoded, and were replaced with REPLACEMENT CHARACTER.\n",
      "WARNING:root:Some characters could not be decoded, and were replaced with REPLACEMENT CHARACTER.\n",
      "WARNING:root:Some characters could not be decoded, and were replaced with REPLACEMENT CHARACTER.\n",
      "WARNING:root:Some characters could not be decoded, and were replaced with REPLACEMENT CHARACTER.\n"
     ]
    },
    {
     "name": "stdout",
     "output_type": "stream",
     "text": [
      "Port Richmond\n",
      "Cobble Hill\n",
      "Inwood\n",
      "Bay Terrace\n",
      "Allerton\n",
      "West Farms\n",
      "Holliswood\n",
      "Queens Village\n",
      "Prospect-Lefferts Gardens\n"
     ]
    },
    {
     "name": "stderr",
     "output_type": "stream",
     "text": [
      "WARNING:root:Some characters could not be decoded, and were replaced with REPLACEMENT CHARACTER.\n",
      "WARNING:root:Some characters could not be decoded, and were replaced with REPLACEMENT CHARACTER.\n",
      "WARNING:root:Some characters could not be decoded, and were replaced with REPLACEMENT CHARACTER.\n"
     ]
    },
    {
     "name": "stdout",
     "output_type": "stream",
     "text": [
      "Rockaway Beach\n",
      "Gramercy\n",
      "Bensonhurst\n",
      "North Riverdale\n",
      "Astoria"
     ]
    },
    {
     "name": "stderr",
     "output_type": "stream",
     "text": [
      "WARNING:root:Some characters could not be decoded, and were replaced with REPLACEMENT CHARACTER.\n",
      "WARNING:root:Some characters could not be decoded, and were replaced with REPLACEMENT CHARACTER.\n",
      "WARNING:root:Some characters could not be decoded, and were replaced with REPLACEMENT CHARACTER.\n",
      "WARNING:root:Some characters could not be decoded, and were replaced with REPLACEMENT CHARACTER.\n",
      "WARNING:root:Some characters could not be decoded, and were replaced with REPLACEMENT CHARACTER.\n",
      "WARNING:root:Some characters could not be decoded, and were replaced with REPLACEMENT CHARACTER.\n",
      "WARNING:root:Some characters could not be decoded, and were replaced with REPLACEMENT CHARACTER.\n"
     ]
    },
    {
     "name": "stdout",
     "output_type": "stream",
     "text": [
      "\n",
      "Todt Hill\n",
      "Clinton Hill\n",
      "Roosevelt Island\n",
      "Gravesend\n",
      "University Heights\n",
      "Port Morris\n",
      "Stapleton\n",
      "Westchester Square\n",
      "Chinatown\n"
     ]
    },
    {
     "name": "stderr",
     "output_type": "stream",
     "text": [
      "WARNING:root:Some characters could not be decoded, and were replaced with REPLACEMENT CHARACTER.\n",
      "WARNING:root:Some characters could not be decoded, and were replaced with REPLACEMENT CHARACTER.\n",
      "WARNING:root:Some characters could not be decoded, and were replaced with REPLACEMENT CHARACTER.\n"
     ]
    },
    {
     "name": "stdout",
     "output_type": "stream",
     "text": [
      "Wakefield\n",
      "Corona\n",
      "West Village\n"
     ]
    },
    {
     "name": "stderr",
     "output_type": "stream",
     "text": [
      "WARNING:root:Some characters could not be decoded, and were replaced with REPLACEMENT CHARACTER.\n",
      "WARNING:root:Some characters could not be decoded, and were replaced with REPLACEMENT CHARACTER.\n",
      "WARNING:root:Some characters could not be decoded, and were replaced with REPLACEMENT CHARACTER.\n",
      "WARNING:root:Some characters could not be decoded, and were replaced with REPLACEMENT CHARACTER.\n"
     ]
    },
    {
     "name": "stdout",
     "output_type": "stream",
     "text": [
      "East Elmhurst\n",
      "Downtown Brooklyn\n",
      "Dyker Heights\n",
      "Upper West Side"
     ]
    },
    {
     "name": "stderr",
     "output_type": "stream",
     "text": [
      "WARNING:root:Some characters could not be decoded, and were replaced with REPLACEMENT CHARACTER.\n",
      "WARNING:root:Some characters could not be decoded, and were replaced with REPLACEMENT CHARACTER.\n",
      "WARNING:root:Some characters could not be decoded, and were replaced with REPLACEMENT CHARACTER.\n",
      "WARNING:root:Some characters could not be decoded, and were replaced with REPLACEMENT CHARACTER.\n"
     ]
    },
    {
     "name": "stdout",
     "output_type": "stream",
     "text": [
      "\n",
      "Harlem\n",
      "Bay Ridge\n",
      "Jamaica Hills\n",
      "Two Bridges\n",
      "Jamaica"
     ]
    },
    {
     "name": "stderr",
     "output_type": "stream",
     "text": [
      "WARNING:root:Some characters could not be decoded, and were replaced with REPLACEMENT CHARACTER.\n",
      "WARNING:root:Some characters could not be decoded, and were replaced with REPLACEMENT CHARACTER.\n",
      "WARNING:root:Some characters could not be decoded, and were replaced with REPLACEMENT CHARACTER.\n",
      "WARNING:root:Some characters could not be decoded, and were replaced with REPLACEMENT CHARACTER.\n"
     ]
    },
    {
     "name": "stdout",
     "output_type": "stream",
     "text": [
      "\n",
      "Co-op City\n",
      "Huguenot\n",
      "Howard Beach\n",
      "Highbridge\n",
      "Brooklyn Heights\n",
      "Fort Greene\n"
     ]
    },
    {
     "name": "stderr",
     "output_type": "stream",
     "text": [
      "WARNING:root:Some characters could not be decoded, and were replaced with REPLACEMENT CHARACTER.\n",
      "WARNING:root:Some characters could not be decoded, and were replaced with REPLACEMENT CHARACTER.\n"
     ]
    },
    {
     "name": "stdout",
     "output_type": "stream",
     "text": [
      "New Dorp Beach\n",
      "NoHo\n",
      "Briarwood\n"
     ]
    },
    {
     "name": "stderr",
     "output_type": "stream",
     "text": [
      "WARNING:root:Some characters could not be decoded, and were replaced with REPLACEMENT CHARACTER.\n"
     ]
    },
    {
     "name": "stdout",
     "output_type": "stream",
     "text": [
      "East Village\n",
      "Hunts Point\n",
      "South Beach\n",
      "Schuylerville\n"
     ]
    },
    {
     "name": "stderr",
     "output_type": "stream",
     "text": [
      "WARNING:root:Some characters could not be decoded, and were replaced with REPLACEMENT CHARACTER.\n",
      "WARNING:root:Some characters could not be decoded, and were replaced with REPLACEMENT CHARACTER.\n"
     ]
    },
    {
     "name": "stdout",
     "output_type": "stream",
     "text": [
      "Lower East Side\n",
      "Edenwald\n",
      "Baychester\n",
      "Pelham Bay\n"
     ]
    },
    {
     "name": "stderr",
     "output_type": "stream",
     "text": [
      "WARNING:root:Some characters could not be decoded, and were replaced with REPLACEMENT CHARACTER.\n",
      "WARNING:root:Some characters could not be decoded, and were replaced with REPLACEMENT CHARACTER.\n",
      "WARNING:root:Some characters could not be decoded, and were replaced with REPLACEMENT CHARACTER.\n",
      "WARNING:root:Some characters could not be decoded, and were replaced with REPLACEMENT CHARACTER.\n",
      "WARNING:root:Some characters could not be decoded, and were replaced with REPLACEMENT CHARACTER.\n"
     ]
    },
    {
     "name": "stdout",
     "output_type": "stream",
     "text": [
      "Upper East Side\n",
      "Mariners Harbor\n",
      "Belmont\n",
      "Woodlawn\n",
      "East New York\n",
      "Richmondtown\n",
      "Melrose\n",
      "Grymes Hill\n",
      "Castle Hill\n",
      "Bronxdale\n",
      "Country Club\n",
      "Greenwich Village\n"
     ]
    },
    {
     "name": "stderr",
     "output_type": "stream",
     "text": [
      "WARNING:root:Some characters could not be decoded, and were replaced with REPLACEMENT CHARACTER.\n",
      "WARNING:root:Some characters could not be decoded, and were replaced with REPLACEMENT CHARACTER.\n",
      "WARNING:root:Some characters could not be decoded, and were replaced with REPLACEMENT CHARACTER.\n",
      "WARNING:root:Some characters could not be decoded, and were replaced with REPLACEMENT CHARACTER.\n",
      "WARNING:root:Some characters could not be decoded, and were replaced with REPLACEMENT CHARACTER.\n",
      "WARNING:root:Some characters could not be decoded, and were replaced with REPLACEMENT CHARACTER.\n",
      "WARNING:root:Some characters could not be decoded, and were replaced with REPLACEMENT CHARACTER.\n",
      "WARNING:root:Some characters could not be decoded, and were replaced with REPLACEMENT CHARACTER.\n",
      "WARNING:root:Some characters could not be decoded, and were replaced with REPLACEMENT CHARACTER.\n",
      "WARNING:root:Some characters could not be decoded, and were replaced with REPLACEMENT CHARACTER.\n",
      "WARNING:root:Some characters could not be decoded, and were replaced with REPLACEMENT CHARACTER.\n",
      "WARNING:root:Some characters could not be decoded, and were replaced with REPLACEMENT CHARACTER.\n"
     ]
    },
    {
     "name": "stdout",
     "output_type": "stream",
     "text": [
      "Forest Hills\n",
      "Castleton Corners\n",
      "Arverne\n",
      "Arden Heights\n",
      "Westerleigh\n",
      "Middle Village\n",
      "Woodrow\n",
      "Dongan Hills\n",
      "Kingsbridge\n",
      "Fresh Meadows\n",
      "Elmhurst\n",
      "Randall Manor\n",
      "Bayswater\n",
      "Morris Heights\n",
      "Midwood\n",
      "Jamaica Estates\n",
      "Flatlands\n",
      "Rego Park\n"
     ]
    },
    {
     "name": "stderr",
     "output_type": "stream",
     "text": [
      "WARNING:root:Some characters could not be decoded, and were replaced with REPLACEMENT CHARACTER.\n",
      "WARNING:root:Some characters could not be decoded, and were replaced with REPLACEMENT CHARACTER.\n",
      "WARNING:root:Some characters could not be decoded, and were replaced with REPLACEMENT CHARACTER.\n",
      "WARNING:root:Some characters could not be decoded, and were replaced with REPLACEMENT CHARACTER.\n"
     ]
    }
   ],
   "source": [
    "#Combining list of reviews for each neighborhood, into a single string\n",
    "#Also converting all the reviews text into UTF-8 encoding, to build the tf-idf later\n",
    "def __unicode__(self):\n",
    "   return unicode(self.some_field) or u''\n",
    "for neighborhood in listings_reviews:\n",
    "    print(neighborhood)\n",
    "    if(len(listings_reviews[neighborhood])>1):\n",
    "        k=' '.join(listings_reviews[neighborhood])\n",
    "        m=UnicodeDammit(k)\n",
    "        s=m.unicode_markup\n",
    "        listings_reviews[neighborhood]=s.encode(\"utf-8\")\n",
    "    else:\n",
    "        print(neighborhood)\n",
    "        print(len(listings_reviews[neighborhood]))\n",
    "        if(len(listings_reviews[neighborhood])==1):\n",
    "            listings_reviews[neighborhood]=listings_reviews[neighborhood][0]\n",
    "        if(len(listings_reviews[neighborhood])==0):\n",
    "            listings_reviews[neighborhood]='the' # i think empty text creates an error, hence this\n",
    "            \n",
    "scripts=[]\n",
    "for n in listings_reviews:\n",
    "    scripts.append(listings_reviews[n])\n",
    "\n",
    "n_feats = 5000\n",
    "doc_by_vocab = np.empty([len(neighborhoods), n_feats])\n",
    "\n",
    "tfidf_vec = TfidfVectorizer(#..\n",
    "    max_df=0.8, min_df=10, max_features=5000,stop_words='english', norm='l2' )\n",
    "\n"
   ]
  },
  {
   "cell_type": "code",
   "execution_count": 7,
   "metadata": {
    "collapsed": false
   },
   "outputs": [],
   "source": [
    "#Making the tfidf matrix using our reviews data\n",
    "doc_by_vocab=tfidf_vec.fit_transform(scripts)\n",
    "\n",
    "\n",
    "# Construct a inverted map from feature index to feature value (word) for later use\n",
    "index_to_vocab = {i:v for i, v in enumerate(tfidf_vec.get_feature_names())}"
   ]
  },
  {
   "cell_type": "code",
   "execution_count": 8,
   "metadata": {
    "collapsed": true
   },
   "outputs": [],
   "source": [
    "doc_by_vocab = doc_by_vocab.toarray()"
   ]
  },
  {
   "cell_type": "code",
   "execution_count": 9,
   "metadata": {
    "collapsed": false
   },
   "outputs": [],
   "source": [
    "#dictionary that maps neighborhoods to their id in doc_by_vocab matrix\n",
    "dict_neighborhoods={}\n",
    "i=0\n",
    "for neighborhood in neighborhoods:\n",
    "    dict_neighborhoods[neighborhood]=i\n",
    "    i+=1"
   ]
  },
  {
   "cell_type": "code",
   "execution_count": 10,
   "metadata": {
    "collapsed": true
   },
   "outputs": [],
   "source": [
    "#function to get similarity between query tfidf and neighborhood (name)\n",
    "def get_sim(doc_tfidf, name2):\n",
    "    idx2=dict_neighborhoods[name2]\n",
    "    return np.dot(doc_tfidf,doc_by_vocab[idx2])"
   ]
  },
  {
   "cell_type": "code",
   "execution_count": 11,
   "metadata": {
    "collapsed": false
   },
   "outputs": [],
   "source": [
    "#Enter query here, also converting query into a tfidf format\n",
    "query='clean safe cheap'\n",
    "query_tfidf = tfidf_vec.transform([query])\n",
    "query_tfidf=query_tfidf.toarray()\n"
   ]
  },
  {
   "cell_type": "code",
   "execution_count": 12,
   "metadata": {
    "collapsed": false
   },
   "outputs": [
    {
     "name": "stdout",
     "output_type": "stream",
     "text": [
      "Midwood\n"
     ]
    }
   ],
   "source": [
    "#finding the neighborhood whose reviews match the query the most\n",
    "maximum=0.0\n",
    "neighbor=' '\n",
    "for neighborhood in dict_neighborhoods:\n",
    "    sim=get_sim(query_tfidf,neighborhood)\n",
    "    if(sim>maximum):\n",
    "        maximum=sim\n",
    "        neighbor=neighborhood\n",
    "print(neighbor)"
   ]
  },
  {
   "cell_type": "code",
   "execution_count": 13,
   "metadata": {
    "collapsed": true
   },
   "outputs": [],
   "source": [
    "import pandas as pd"
   ]
  },
  {
   "cell_type": "code",
   "execution_count": 14,
   "metadata": {
    "collapsed": false
   },
   "outputs": [
    {
     "ename": "SyntaxError",
     "evalue": "invalid syntax (<ipython-input-14-630780e730b4>, line 1)",
     "output_type": "error",
     "traceback": [
      "\u001b[0;36m  File \u001b[0;32m\"<ipython-input-14-630780e730b4>\"\u001b[0;36m, line \u001b[0;32m1\u001b[0m\n\u001b[0;31m    print type(doc_by_vocab)\u001b[0m\n\u001b[0m             ^\u001b[0m\n\u001b[0;31mSyntaxError\u001b[0m\u001b[0;31m:\u001b[0m invalid syntax\n"
     ]
    }
   ],
   "source": [
    "print type(doc_by_vocab)"
   ]
  },
  {
   "cell_type": "code",
   "execution_count": null,
   "metadata": {
    "collapsed": true
   },
   "outputs": [],
   "source": []
  }
 ],
 "metadata": {
  "kernelspec": {
   "display_name": "Python 2",
   "language": "python",
   "name": "python2"
  },
  "language_info": {
   "codemirror_mode": {
    "name": "ipython",
    "version": 2
   },
   "file_extension": ".py",
   "mimetype": "text/x-python",
   "name": "python",
   "nbconvert_exporter": "python",
   "pygments_lexer": "ipython2",
   "version": "2.7.13"
  }
 },
 "nbformat": 4,
 "nbformat_minor": 2
}
