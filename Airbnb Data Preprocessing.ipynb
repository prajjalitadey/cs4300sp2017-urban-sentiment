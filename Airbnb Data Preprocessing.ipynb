{
 "cells": [
  {
   "cell_type": "markdown",
   "metadata": {},
   "source": [
    "# Airbnb Data Preprocessing"
   ]
  },
  {
   "cell_type": "code",
   "execution_count": 3,
   "metadata": {
    "collapsed": true
   },
   "outputs": [],
   "source": [
    "import csv\n",
    "import json\n",
    "import pandas as pd\n",
    "import numpy as np"
   ]
  },
  {
   "cell_type": "code",
   "execution_count": 24,
   "metadata": {
    "collapsed": false
   },
   "outputs": [],
   "source": [
    "# Opening CSV Reviews file\n",
    "# reviews[listing] = [list of reviews for that listing]\n",
    "reviewsfile = open('jsons/nycreviews.csv', 'rb')\n",
    "rvreader = csv.reader(reviewsfile)\n",
    "reviews = {}\n",
    "for row in rvreader:\n",
    "    listing_id = row[0]\n",
    "    comment = row[5]\n",
    "    if listing_id in reviews.keys():\n",
    "        reviews[listing_id].append(comment)\n",
    "    else:\n",
    "        reviews[listing_id] = [comment]\n"
   ]
  },
  {
   "cell_type": "code",
   "execution_count": 60,
   "metadata": {
    "collapsed": false
   },
   "outputs": [],
   "source": [
    "# Opening CSV Listings file \n",
    "# listings[neighborhood name] = [listings in that neighborhood]\n",
    "listingsfile = open('jsons/nyclistings.csv', 'rb')\n",
    "listingsreader = csv.reader(listingsfile)\n",
    "listings = {}\n",
    "for row in listingsreader:\n",
    "    if row[5] != \"neighbourhood\":\n",
    "        listing_id = row[0]\n",
    "        neighborhood = row[5]\n",
    "        if neighborhood in listings.keys():\n",
    "            listings[neighborhood].append(listing_id)\n",
    "        else:\n",
    "            listings[neighborhood] = [listing_id]\n"
   ]
  },
  {
   "cell_type": "code",
   "execution_count": 63,
   "metadata": {
    "collapsed": false
   },
   "outputs": [],
   "source": [
    "# listings_reviews -> all reviews for all places within a particular neighborhood\n",
    "listings_reviews = {}\n",
    "for neighborhood,listing_ids in listings.iteritems():\n",
    "    nested_list = [reviews[listing] for listing in listing_ids if listing in reviews.keys()]\n",
    "    listings_reviews[neighborhood] = [item for sublist in nested_list for item in sublist]"
   ]
  },
  {
   "cell_type": "code",
   "execution_count": 61,
   "metadata": {
    "collapsed": false
   },
   "outputs": [],
   "source": [
    "neighborhoods = listings.keys()"
   ]
  },
  {
   "cell_type": "code",
   "execution_count": 62,
   "metadata": {
    "collapsed": false
   },
   "outputs": [
    {
     "name": "stdout",
     "output_type": "stream",
     "text": [
      "215\n",
      "['Ozone Park', 'Greenpoint', 'Financial District', 'Kensington', 'Mount Eden', 'Ridgewood', 'Cambria Heights', 'Concourse', 'Oakwood', 'South Ozone Park', 'Glen Oaks', 'Port Richmond', 'Cobble Hill', 'Inwood', 'Bay Terrace', 'Allerton', 'West Farms', 'Holliswood', 'Queens Village', 'Prospect-Lefferts Gardens', 'Rockaway Beach', 'Gramercy', 'Chelsea', 'Stapleton', 'North Riverdale', 'Astoria', 'Todt Hill', 'Clinton Hill', 'Gravesend', 'University Heights', 'Port Morris', 'Great Kills', 'Westchester Square', 'Chinatown', 'Wakefield', 'Corona', 'West Village', 'East Elmhurst', 'Downtown Brooklyn', 'Dyker Heights', 'Upper West Side', 'Harlem', 'Bay Ridge', 'Two Bridges', 'Jamaica', 'Huguenot', 'Howard Beach', 'Highbridge', 'Brooklyn Heights', 'Belmont', 'New Dorp Beach', 'Long Island City', 'Edenwald', 'East Village', 'Hunts Point', 'South Beach', 'Schuylerville', 'Lower East Side', 'NoHo', 'Bayside', 'Baychester', 'Pelham Bay', 'Upper East Side', 'Mariners Harbor', 'Fort Greene', 'Woodlawn', 'Williamsbridge', 'East New York', 'Richmondtown', 'Melrose', 'Unionport', 'Castle Hill', 'Bronxdale', 'Country Club', 'Greenwich Village', 'Forest Hills', 'Castleton Corners', 'College Point', 'Douglaston', 'Arden Heights', 'Westerleigh', 'Middle Village', 'Woodrow', 'Dongan Hills', 'Kingsbridge', 'Hollis Hills', 'Elmhurst', 'Randall Manor', 'Bayswater', 'Morris Heights', 'Briarwood', 'Jamaica Estates', 'Flatlands', 'Rego Park', 'Rosebank', 'Silver Lake', 'Boerum Hill', 'Claremont Village', 'Bergen Beach', 'Throgs Neck', 'Whitestone', 'West Brighton', 'Brownsville', 'Spuyten Duyvil', 'Bushwick', 'Eltingville', 'Nolita', 'Brighton Beach', 'Red Hook', 'City Island', 'Midland Beach', 'Battery Park City', 'South Slope', 'Borough Park', 'Jackson Heights', 'Ditmars Steinway', 'Arrochar', 'Manhattan Beach', 'Emerson Hill', 'Edgemere', 'Gerritsen Beach', 'Coney Island', 'Fieldston', 'Columbia St', 'Morningside Heights', 'Tottenville', 'Clason Point', 'Cypress Hills', 'Tompkinsville', 'Flushing', \"Hell's Kitchen\", 'Grymes Hill', 'East Harlem', 'Arverne', 'Mott Haven', 'Pelham Gardens', 'Sea Gate', 'Stuyvesant Town', 'Carroll Gardens', 'Marble Hill', 'St. Albans', 'Morrisania', 'Flatbush', 'Mill Basin', 'Sunnyside', 'Windsor Terrace', 'Richmond Hill', 'Williamsburg', 'Laurelton', 'Vinegar Hill', 'Canarsie', 'Shore Acres', 'Norwood', 'Lighthouse Hill', 'Springfield Gardens', 'Theater District', 'Midtown', 'Roosevelt Island', 'Bensonhurst', 'Bay Terrace, Staten Island', 'Civic Center', 'Murray Hill', 'Gowanus', 'Concord', 'Tremont', 'Midwood', 'Riverdale', 'Van Nest', 'Kew Gardens Hills', 'Washington Heights', 'Fresh Meadows', 'New Springville', 'St. George', 'DUMBO', 'Jamaica Hills', 'Flatiron District', 'Bath Beach', 'Olinville', 'Navy Yard', 'Parkchester', 'Crown Heights', 'Park Slope', 'Mount Hope', 'Bellerose', 'SoHo', 'Belle Harbor', 'Bedford-Stuyvesant', 'Sheepshead Bay', 'Far Rockaway', 'Concourse Village', 'Morris Park', 'Tribeca', 'Little Italy', 'Fort Hamilton', 'Sunset Park', 'Woodside', 'Maspeth', 'Prospect Heights', 'Hollis', 'Longwood', 'Kips Bay', 'Soundview', 'Glendale', 'East Morrisania', 'East Flatbush', 'Woodhaven', 'Fordham', 'Rosedale', 'Eastchester', 'Clifton', 'Graniteville', 'Co-op City', 'Howland Hook', 'New Brighton', 'Kew Gardens']\n"
     ]
    }
   ],
   "source": [
    "print len(neighborhoods)\n",
    "print neighborhoods"
   ]
  },
  {
   "cell_type": "code",
   "execution_count": null,
   "metadata": {
    "collapsed": true
   },
   "outputs": [],
   "source": []
  }
 ],
 "metadata": {
  "kernelspec": {
   "display_name": "Python 2",
   "language": "python",
   "name": "python2"
  },
  "language_info": {
   "codemirror_mode": {
    "name": "ipython",
    "version": 2
   },
   "file_extension": ".py",
   "mimetype": "text/x-python",
   "name": "python",
   "nbconvert_exporter": "python",
   "pygments_lexer": "ipython2",
   "version": "2.7.13"
  }
 },
 "nbformat": 4,
 "nbformat_minor": 2
}
