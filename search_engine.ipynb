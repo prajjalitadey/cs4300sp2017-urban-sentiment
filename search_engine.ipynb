{
 "cells": [
  {
   "cell_type": "markdown",
   "metadata": {},
   "source": [
    "# Airbnb Data\n",
    "\n",
    "Investigation of the NYC Airbnb Data"
   ]
  },
  {
   "cell_type": "code",
   "execution_count": 40,
   "metadata": {
    "collapsed": true
   },
   "outputs": [],
   "source": [
    "import sys\n",
    "import textmining\n",
    "import numpy as np\n",
    "from __future__ import print_function\n",
    "from sklearn.feature_extraction.text import TfidfVectorizer\n",
    "import json\n",
    "%matplotlib inline\n",
    "import matplotlib.pyplot as plt\n",
    "from nltk.tokenize import TreebankWordTokenizer\n",
    "import copy\n",
    "from bs4 import UnicodeDammit\n",
    "#encoding='latin-1'"
   ]
  },
  {
   "cell_type": "code",
   "execution_count": 33,
   "metadata": {
    "collapsed": false
   },
   "outputs": [
    {
     "ename": "NameError",
     "evalue": "name 'io' is not defined",
     "output_type": "error",
     "traceback": [
      "\u001b[0;31m---------------------------------------------------------------------------\u001b[0m",
      "\u001b[0;31mNameError\u001b[0m                                 Traceback (most recent call last)",
      "\u001b[0;32m<ipython-input-33-02e1c3bfb041>\u001b[0m in \u001b[0;36m<module>\u001b[0;34m()\u001b[0m\n\u001b[1;32m      1\u001b[0m \u001b[0;32mimport\u001b[0m \u001b[0mcsv\u001b[0m\u001b[0;34m\u001b[0m\u001b[0m\n\u001b[0;32m----> 2\u001b[0;31m \u001b[0mreviewsfile\u001b[0m \u001b[0;34m=\u001b[0m \u001b[0mio\u001b[0m\u001b[0;34m.\u001b[0m\u001b[0mopen\u001b[0m\u001b[0;34m(\u001b[0m\u001b[0;34m'jsons/nycreviews.csv'\u001b[0m\u001b[0;34m,\u001b[0m \u001b[0;34m'rb'\u001b[0m\u001b[0;34m,\u001b[0m \u001b[0mencoding\u001b[0m\u001b[0;34m=\u001b[0m\u001b[0;34m'latin-1'\u001b[0m\u001b[0;34m)\u001b[0m\u001b[0;34m\u001b[0m\u001b[0m\n\u001b[0m\u001b[1;32m      3\u001b[0m \u001b[0mrvreader\u001b[0m \u001b[0;34m=\u001b[0m \u001b[0mcsv\u001b[0m\u001b[0;34m.\u001b[0m\u001b[0mreader\u001b[0m\u001b[0;34m(\u001b[0m\u001b[0mreviewsfile\u001b[0m\u001b[0;34m)\u001b[0m\u001b[0;34m\u001b[0m\u001b[0m\n\u001b[1;32m      4\u001b[0m \u001b[0mreviews\u001b[0m \u001b[0;34m=\u001b[0m \u001b[0;34m{\u001b[0m\u001b[0;34m}\u001b[0m\u001b[0;34m\u001b[0m\u001b[0m\n\u001b[1;32m      5\u001b[0m \u001b[0;32mfor\u001b[0m \u001b[0mrow\u001b[0m \u001b[0;32min\u001b[0m \u001b[0mrvreader\u001b[0m\u001b[0;34m:\u001b[0m\u001b[0;34m\u001b[0m\u001b[0m\n",
      "\u001b[0;31mNameError\u001b[0m: name 'io' is not defined"
     ]
    }
   ],
   "source": [
    "#Making dictionaries for pre-processing\n",
    "import csv\n",
    "reviewsfile = open('jsons/nycreviews.csv', 'rb')\n",
    "rvreader = csv.reader(reviewsfile)\n",
    "reviews = {}\n",
    "for row in rvreader:\n",
    "    listing_id = row[0]\n",
    "    comment = row[5]\n",
    "    if listing_id in reviews.keys():\n",
    "        reviews[listing_id].append(comment)\n",
    "    else:\n",
    "        reviews[listing_id] = [comment]"
   ]
  },
  {
   "cell_type": "code",
   "execution_count": 18,
   "metadata": {
    "collapsed": false
   },
   "outputs": [],
   "source": [
    "#Dictionary for nyc listings\n",
    "listingsfile = open('jsons/nyclistings.csv', 'rb')\n",
    "listingsreader = csv.reader(listingsfile)\n",
    "listings = {}\n",
    "for row in listingsreader:\n",
    "    if row[5] != \"neighbourhood\":\n",
    "        listing_id = row[0]\n",
    "        neighborhood = row[5]\n",
    "        if neighborhood in listings.keys():\n",
    "            listings[neighborhood].append(listing_id)\n",
    "        else:\n",
    "            listings[neighborhood] = [listing_id]"
   ]
  },
  {
   "cell_type": "code",
   "execution_count": 59,
   "metadata": {
    "collapsed": true
   },
   "outputs": [],
   "source": [
    "# listings_reviews -> all reviews for all places within a particular neighborhood\n",
    "listings_reviews = {}\n",
    "for neighborhood,listing_ids in listings.iteritems():\n",
    "    nested_list = [reviews[listing] for listing in listing_ids if listing in reviews.keys()]\n",
    "    listings_reviews[neighborhood] = [item for sublist in nested_list for item in sublist]"
   ]
  },
  {
   "cell_type": "code",
   "execution_count": 37,
   "metadata": {
    "collapsed": true
   },
   "outputs": [],
   "source": [
    "neighborhoods = listings.keys()"
   ]
  },
  {
   "cell_type": "code",
   "execution_count": 60,
   "metadata": {
    "collapsed": false
   },
   "outputs": [
    {
     "name": "stdout",
     "output_type": "stream",
     "text": [
      "Ozone Park\n",
      "Greenpoint\n",
      "Financial District\n",
      "Kensington\n",
      "Mount Eden\n",
      "Ridgewood\n",
      "Cambria Heights\n",
      "Concourse\n",
      "Port Richmond\n",
      "Cobble Hill\n",
      "Inwood\n",
      "Bay Terrace\n",
      "Allerton\n",
      "West Farms\n",
      "Holliswood\n",
      "Queens Village\n",
      "Prospect-Lefferts Gardens\n",
      "Rockaway Beach\n",
      "Gramercy\n",
      "Bensonhurst\n",
      "North Riverdale\n",
      "Astoria\n",
      "Todt Hill\n",
      "Clinton Hill\n",
      "Roosevelt Island\n",
      "Gravesend\n",
      "University Heights\n",
      "Port Morris\n",
      "Stapleton\n",
      "Westchester Square\n",
      "Chinatown\n",
      "Wakefield\n",
      "Corona\n",
      "West Village\n",
      "East Elmhurst\n",
      "Downtown Brooklyn\n",
      "Dyker Heights\n",
      "Upper West Side\n",
      "Harlem\n",
      "Bay Ridge\n",
      "Jamaica Hills\n",
      "Two Bridges\n",
      "Jamaica\n",
      "Co-op City\n",
      "Huguenot\n",
      "Huguenot\n",
      "0\n",
      "Howard Beach\n",
      "Highbridge\n",
      "Brooklyn Heights\n",
      "Fort Greene\n",
      "New Dorp Beach\n",
      "New Dorp Beach\n",
      "0\n",
      "NoHo\n",
      "Briarwood\n",
      "East Village\n",
      "Hunts Point\n",
      "South Beach\n",
      "Schuylerville\n",
      "Lower East Side\n",
      "Edenwald\n",
      "Baychester\n",
      "Pelham Bay\n",
      "Upper East Side\n",
      "Mariners Harbor\n",
      "Belmont\n",
      "Woodlawn\n",
      "East New York\n",
      "Richmondtown\n",
      "Melrose\n",
      "Grymes Hill\n",
      "Castle Hill\n",
      "Bronxdale\n",
      "Country Club\n",
      "Country Club\n",
      "0\n",
      "Greenwich Village\n",
      "Forest Hills\n",
      "Castleton Corners\n",
      "Arverne\n",
      "Arden Heights\n",
      "Westerleigh\n",
      "Westerleigh\n",
      "0\n",
      "Middle Village\n",
      "Woodrow\n",
      "Woodrow\n",
      "0\n",
      "Dongan Hills\n",
      "Kingsbridge\n",
      "Fresh Meadows\n",
      "Elmhurst\n",
      "Randall Manor\n",
      "Bayswater\n",
      "Morris Heights\n",
      "Midwood\n",
      "Jamaica Estates\n",
      "Flatlands\n",
      "Rego Park\n",
      "Williamsbridge\n",
      "Silver Lake\n",
      "Boerum Hill\n",
      "Claremont Village\n",
      "Bergen Beach\n",
      "Rosebank\n",
      "Rosebank\n",
      "0\n",
      "Whitestone\n",
      "West Brighton\n",
      "Brownsville\n",
      "Bushwick\n",
      "Prospect Heights\n",
      "Eltingville\n",
      "Nolita\n",
      "Brighton Beach\n",
      "Red Hook\n",
      "City Island\n",
      "Midland Beach\n",
      "East Flatbush\n",
      "Battery Park City\n",
      "South Slope\n",
      "Borough Park\n",
      "Jackson Heights\n",
      "Ditmars Steinway\n",
      "Arrochar\n",
      "Manhattan Beach\n",
      "Carroll Gardens\n",
      "Douglaston\n",
      "Douglaston\n",
      "1\n",
      "Gerritsen Beach\n",
      "Gerritsen Beach\n",
      "0\n",
      "Columbia St\n",
      "Coney Island\n",
      "Fieldston\n",
      "Bayside\n",
      "Morningside Heights\n",
      "Morrisania\n",
      "Clason Point\n",
      "Cypress Hills\n",
      "Tompkinsville\n",
      "Flushing\n",
      "Little Italy\n",
      "Unionport\n",
      "East Harlem\n",
      "College Point\n",
      "Mott Haven\n",
      "Riverdale\n",
      "Sea Gate\n",
      "Concourse Village\n",
      "Stuyvesant Town\n",
      "Emerson Hill\n",
      "Marble Hill\n",
      "St. Albans\n",
      "Tottenville\n",
      "Flatbush\n",
      "Mill Basin\n",
      "Sunnyside\n",
      "Windsor Terrace\n",
      "Richmond Hill\n",
      "Edgemere\n",
      "Glen Oaks\n",
      "Vinegar Hill\n",
      "Canarsie\n",
      "Shore Acres\n",
      "Norwood\n",
      "Lighthouse Hill\n",
      "Bath Beach\n",
      "Theater District\n",
      "Midtown\n",
      "East Morrisania\n",
      "South Ozone Park\n",
      "Chelsea\n",
      "Bay Terrace, Staten Island\n",
      "Bay Terrace, Staten Island\n",
      "0\n",
      "Civic Center\n",
      "Murray Hill\n",
      "Laurelton\n",
      "Concord\n",
      "Tremont\n",
      "Van Nest\n",
      "Kew Gardens Hills\n",
      "Washington Heights\n",
      "Hollis Hills\n",
      "New Springville\n",
      "St. George\n",
      "DUMBO\n",
      "Throgs Neck\n",
      "Oakwood\n",
      "Flatiron District\n",
      "Springfield Gardens\n",
      "Gowanus\n",
      "Park Slope\n",
      "Olinville\n",
      "Olinville\n",
      "0\n",
      "Navy Yard\n",
      "Parkchester\n",
      "Crown Heights\n",
      "Great Kills\n",
      "Mount Hope\n",
      "Bellerose\n",
      "SoHo\n",
      "Belle Harbor\n",
      "Bedford-Stuyvesant\n",
      "Sheepshead Bay\n",
      "Far Rockaway\n",
      "Long Island City\n",
      "Morris Park\n",
      "Tribeca\n",
      "Fort Hamilton\n",
      "Sunset Park\n",
      "Soundview\n",
      "Woodside\n",
      "Maspeth\n",
      "Williamsburg\n",
      "Hollis\n",
      "Longwood\n",
      "Kips Bay\n",
      "Glendale\n",
      "Hell's Kitchen\n",
      "Pelham Gardens\n",
      "Woodhaven\n",
      "Fordham\n",
      "Rosedale\n",
      "Eastchester\n",
      "Clifton\n",
      "Graniteville\n",
      "Spuyten Duyvil\n",
      "Howland Hook\n",
      "New Brighton\n",
      "Kew Gardens\n"
     ]
    }
   ],
   "source": [
    "#Combining list of reviews for each neighborhood, into a single string\n",
    "#Also converting all the reviews text into UTF-8 encoding, to build the tf-idf later\n",
    "def __unicode__(self):\n",
    "   return unicode(self.some_field) or u''\n",
    "for neighborhood in listings_reviews:\n",
    "    print(neighborhood)\n",
    "    if(len(listings_reviews[neighborhood])>1):\n",
    "        k=' '.join(listings_reviews[neighborhood])\n",
    "        m=UnicodeDammit(k)\n",
    "        s=m.unicode_markup\n",
    "        listings_reviews[neighborhood]=s.encode(\"utf-8\")\n",
    "    else:\n",
    "        print(neighborhood)\n",
    "        print(len(listings_reviews[neighborhood]))\n",
    "        if(len(listings_reviews[neighborhood])==1):\n",
    "            listings_reviews[neighborhood]=listings_reviews[neighborhood][0]\n",
    "        if(len(listings_reviews[neighborhood])==0):\n",
    "            listings_reviews[neighborhood]='the' # i think empty text creates an error, hence this\n",
    "            \n",
    "scripts=[]\n",
    "for n in listings_reviews:\n",
    "    scripts.append(listings_reviews[n])\n",
    "\n",
    "n_feats = 5000\n",
    "doc_by_vocab = np.empty([len(neighborhoods), n_feats])\n",
    "\n",
    "tfidf_vec = TfidfVectorizer(#..\n",
    "    max_df=0.8, min_df=10, max_features=5000,stop_words='english', norm='l2' )\n",
    "\n"
   ]
  },
  {
   "cell_type": "code",
   "execution_count": 75,
   "metadata": {
    "collapsed": false
   },
   "outputs": [],
   "source": [
    "#Making the tfidf matrix using our reviews data\n",
    "doc_by_vocab=tfidf_vec.fit_transform(scripts)\n",
    "\n",
    "\n",
    "# Construct a inverted map from feature index to feature value (word) for later use\n",
    "index_to_vocab = {i:v for i, v in enumerate(tfidf_vec.get_feature_names())}"
   ]
  },
  {
   "cell_type": "code",
   "execution_count": 76,
   "metadata": {
    "collapsed": true
   },
   "outputs": [],
   "source": [
    "doc_by_vocab = doc_by_vocab.toarray()"
   ]
  },
  {
   "cell_type": "code",
   "execution_count": 86,
   "metadata": {
    "collapsed": false
   },
   "outputs": [],
   "source": [
    "#dictionary that maps neighborhoods to their id in doc_by_vocab matrix\n",
    "dict_neighborhoods={}\n",
    "i=0\n",
    "for neighborhood in neighborhoods:\n",
    "    dict_neighborhoods[neighborhood]=i\n",
    "    i+=1"
   ]
  },
  {
   "cell_type": "code",
   "execution_count": 87,
   "metadata": {
    "collapsed": true
   },
   "outputs": [],
   "source": [
    "#function to get similarity between query tfidf and neighborhood (name)\n",
    "def get_sim(doc_tfidf, name2):\n",
    "    idx2=dict_neighborhoods[name2]\n",
    "    return np.dot(doc_tfidf,doc_by_vocab[idx2])"
   ]
  },
  {
   "cell_type": "code",
   "execution_count": 127,
   "metadata": {
    "collapsed": false
   },
   "outputs": [],
   "source": [
    "#Enter query here, also converting query into a tfidf format\n",
    "query='clean safe cheap'\n",
    "query_tfidf = tfidf_vec.transform([query])\n",
    "query_tfidf=query_tfidf.toarray()\n"
   ]
  },
  {
   "cell_type": "code",
   "execution_count": 128,
   "metadata": {
    "collapsed": false
   },
   "outputs": [
    {
     "name": "stdout",
     "output_type": "stream",
     "text": [
      "Midwood\n"
     ]
    }
   ],
   "source": [
    "#finding the neighborhood whose reviews match the query the most\n",
    "maximum=0.0\n",
    "neighbor=' '\n",
    "for neighborhood in dict_neighborhoods:\n",
    "    sim=get_sim(query_tfidf,neighborhood)\n",
    "    if(sim>maximum):\n",
    "        maximum=sim\n",
    "        neighbor=neighborhood\n",
    "print(neighbor)"
   ]
  }
 ],
 "metadata": {
  "kernelspec": {
   "display_name": "Python 2",
   "language": "python",
   "name": "python2"
  },
  "language_info": {
   "codemirror_mode": {
    "name": "ipython",
    "version": 2
   },
   "file_extension": ".py",
   "mimetype": "text/x-python",
   "name": "python",
   "nbconvert_exporter": "python",
   "pygments_lexer": "ipython2",
   "version": "2.7.13"
  }
 },
 "nbformat": 4,
 "nbformat_minor": 2
}
