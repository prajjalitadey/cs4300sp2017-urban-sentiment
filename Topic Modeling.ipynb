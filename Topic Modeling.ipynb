{
 "cells": [
  {
   "cell_type": "code",
   "execution_count": 1,
   "metadata": {
    "collapsed": true
   },
   "outputs": [],
   "source": [
    "from __future__ import print_function\n",
    "import numpy as np\n",
    "import csv\n",
    "import warnings\n",
    "warnings.filterwarnings(\"ignore\") #just for some sklearn stuff."
   ]
  },
  {
   "cell_type": "code",
   "execution_count": null,
   "metadata": {
    "collapsed": true
   },
   "outputs": [],
   "source": []
  },
  {
   "cell_type": "code",
   "execution_count": 31,
   "metadata": {
    "collapsed": false
   },
   "outputs": [],
   "source": [
    "with open('/Users/talhabaig/cs4300sp2017-urban-sentiment/jsons/nyc_combination.csv', 'rb') as f:\n",
    "    reader = csv.reader(f)\n",
    "    ids = []\n",
    "    docs = []\n",
    "    neighborhoods = []\n",
    "    for row in reader:\n",
    "        ids.append(row[1])\n",
    "        neighborhoods.append(row[2])\n",
    "        docs.append(row[3])"
   ]
  },
  {
   "cell_type": "code",
   "execution_count": 39,
   "metadata": {
    "collapsed": false
   },
   "outputs": [],
   "source": [
    "class Listing:\n",
    "\n",
    "    def __init__(self, listing_id, neighborhood):\n",
    "        self.id = listing_id\n",
    "        self.neighborhood = neighborhood\n",
    "        self.review = \"\"\n",
    "    \n",
    "    def addReview(self, review):\n",
    "        seld.review = self.review + \" \" + review\n",
    "        "
   ]
  },
  {
   "cell_type": "code",
   "execution_count": 48,
   "metadata": {
    "collapsed": false
   },
   "outputs": [
    {
     "ename": "IndexError",
     "evalue": "index (2) out of range",
     "output_type": "error",
     "traceback": [
      "\u001b[0;31m---------------------------------------------------------------------------\u001b[0m",
      "\u001b[0;31mIndexError\u001b[0m                                Traceback (most recent call last)",
      "\u001b[0;32m<ipython-input-48-831ed89ff3a8>\u001b[0m in \u001b[0;36m<module>\u001b[0;34m()\u001b[0m\n\u001b[1;32m      2\u001b[0m \u001b[0;32mfor\u001b[0m \u001b[0mi\u001b[0m \u001b[0;32min\u001b[0m \u001b[0mrange\u001b[0m\u001b[0;34m(\u001b[0m\u001b[0mlen\u001b[0m\u001b[0;34m(\u001b[0m\u001b[0mids\u001b[0m\u001b[0;34m)\u001b[0m\u001b[0;34m)\u001b[0m\u001b[0;34m:\u001b[0m\u001b[0;34m\u001b[0m\u001b[0m\n\u001b[1;32m      3\u001b[0m     \u001b[0;32mif\u001b[0m \u001b[0mids\u001b[0m\u001b[0;34m[\u001b[0m\u001b[0mi\u001b[0m\u001b[0;34m]\u001b[0m \u001b[0;32min\u001b[0m \u001b[0mid_to_reviews\u001b[0m\u001b[0;34m:\u001b[0m\u001b[0;34m\u001b[0m\u001b[0m\n\u001b[0;32m----> 4\u001b[0;31m         \u001b[0mid_to_reviews\u001b[0m\u001b[0;34m[\u001b[0m\u001b[0mids\u001b[0m\u001b[0;34m[\u001b[0m\u001b[0mi\u001b[0m\u001b[0;34m]\u001b[0m\u001b[0;34m]\u001b[0m\u001b[0;34m.\u001b[0m\u001b[0maddReview\u001b[0m\u001b[0;34m(\u001b[0m\u001b[0mdoc\u001b[0m\u001b[0;34m[\u001b[0m\u001b[0mi\u001b[0m\u001b[0;34m]\u001b[0m\u001b[0;34m)\u001b[0m\u001b[0;34m\u001b[0m\u001b[0m\n\u001b[0m\u001b[1;32m      5\u001b[0m     \u001b[0;32melse\u001b[0m\u001b[0;34m:\u001b[0m\u001b[0;34m\u001b[0m\u001b[0m\n\u001b[1;32m      6\u001b[0m         \u001b[0mid_to_reviews\u001b[0m\u001b[0;34m[\u001b[0m\u001b[0mids\u001b[0m\u001b[0;34m[\u001b[0m\u001b[0mi\u001b[0m\u001b[0;34m]\u001b[0m\u001b[0;34m]\u001b[0m \u001b[0;34m=\u001b[0m \u001b[0mListing\u001b[0m\u001b[0;34m(\u001b[0m\u001b[0mids\u001b[0m\u001b[0;34m[\u001b[0m\u001b[0mi\u001b[0m\u001b[0;34m]\u001b[0m\u001b[0;34m,\u001b[0m \u001b[0mneighborhoods\u001b[0m\u001b[0;34m[\u001b[0m\u001b[0mi\u001b[0m\u001b[0;34m]\u001b[0m\u001b[0;34m)\u001b[0m\u001b[0;34m\u001b[0m\u001b[0m\n",
      "\u001b[0;32m/Users/talhabaig/anaconda2/envs/cs4300/lib/python2.7/site-packages/scipy/sparse/csr.pyc\u001b[0m in \u001b[0;36m__getitem__\u001b[0;34m(self, key)\u001b[0m\n\u001b[1;32m    290\u001b[0m             \u001b[0;31m# [i, 1:2]\u001b[0m\u001b[0;34m\u001b[0m\u001b[0;34m\u001b[0m\u001b[0m\n\u001b[1;32m    291\u001b[0m             \u001b[0;32melif\u001b[0m \u001b[0misinstance\u001b[0m\u001b[0;34m(\u001b[0m\u001b[0mcol\u001b[0m\u001b[0;34m,\u001b[0m \u001b[0mslice\u001b[0m\u001b[0;34m)\u001b[0m\u001b[0;34m:\u001b[0m\u001b[0;34m\u001b[0m\u001b[0m\n\u001b[0;32m--> 292\u001b[0;31m                 \u001b[0;32mreturn\u001b[0m \u001b[0mself\u001b[0m\u001b[0;34m.\u001b[0m\u001b[0m_get_row_slice\u001b[0m\u001b[0;34m(\u001b[0m\u001b[0mrow\u001b[0m\u001b[0;34m,\u001b[0m \u001b[0mcol\u001b[0m\u001b[0;34m)\u001b[0m\u001b[0;34m\u001b[0m\u001b[0m\n\u001b[0m\u001b[1;32m    293\u001b[0m             \u001b[0;31m# [i, [1, 2]]\u001b[0m\u001b[0;34m\u001b[0m\u001b[0;34m\u001b[0m\u001b[0m\n\u001b[1;32m    294\u001b[0m             \u001b[0;32melif\u001b[0m \u001b[0missequence\u001b[0m\u001b[0;34m(\u001b[0m\u001b[0mcol\u001b[0m\u001b[0;34m)\u001b[0m\u001b[0;34m:\u001b[0m\u001b[0;34m\u001b[0m\u001b[0m\n",
      "\u001b[0;32m/Users/talhabaig/anaconda2/envs/cs4300/lib/python2.7/site-packages/scipy/sparse/csr.pyc\u001b[0m in \u001b[0;36m_get_row_slice\u001b[0;34m(self, i, cslice)\u001b[0m\n\u001b[1;32m    373\u001b[0m \u001b[0;34m\u001b[0m\u001b[0m\n\u001b[1;32m    374\u001b[0m         \u001b[0;32mif\u001b[0m \u001b[0mi\u001b[0m \u001b[0;34m<\u001b[0m \u001b[0;36m0\u001b[0m \u001b[0;32mor\u001b[0m \u001b[0mi\u001b[0m \u001b[0;34m>=\u001b[0m \u001b[0mself\u001b[0m\u001b[0;34m.\u001b[0m\u001b[0mshape\u001b[0m\u001b[0;34m[\u001b[0m\u001b[0;36m0\u001b[0m\u001b[0;34m]\u001b[0m\u001b[0;34m:\u001b[0m\u001b[0;34m\u001b[0m\u001b[0m\n\u001b[0;32m--> 375\u001b[0;31m             \u001b[0;32mraise\u001b[0m \u001b[0mIndexError\u001b[0m\u001b[0;34m(\u001b[0m\u001b[0;34m'index (%d) out of range'\u001b[0m \u001b[0;34m%\u001b[0m \u001b[0mi\u001b[0m\u001b[0;34m)\u001b[0m\u001b[0;34m\u001b[0m\u001b[0m\n\u001b[0m\u001b[1;32m    376\u001b[0m \u001b[0;34m\u001b[0m\u001b[0m\n\u001b[1;32m    377\u001b[0m         \u001b[0mstart\u001b[0m\u001b[0;34m,\u001b[0m \u001b[0mstop\u001b[0m\u001b[0;34m,\u001b[0m \u001b[0mstride\u001b[0m \u001b[0;34m=\u001b[0m \u001b[0mcslice\u001b[0m\u001b[0;34m.\u001b[0m\u001b[0mindices\u001b[0m\u001b[0;34m(\u001b[0m\u001b[0mself\u001b[0m\u001b[0;34m.\u001b[0m\u001b[0mshape\u001b[0m\u001b[0;34m[\u001b[0m\u001b[0;36m1\u001b[0m\u001b[0;34m]\u001b[0m\u001b[0;34m)\u001b[0m\u001b[0;34m\u001b[0m\u001b[0m\n",
      "\u001b[0;31mIndexError\u001b[0m: index (2) out of range"
     ]
    }
   ],
   "source": [
    "id_to_reviews = {}\n",
    "for i in range(len(ids)):\n",
    "    if ids[i] in id_to_reviews:\n",
    "        id_to_reviews[ids[i]].addReview(doc[i])\n",
    "    else:\n",
    "        id_to_reviews[ids[i]] = Listing(ids[i], neighborhoods[i])"
   ]
  },
  {
   "cell_type": "code",
   "execution_count": 32,
   "metadata": {
    "collapsed": false
   },
   "outputs": [
    {
     "name": "stdout",
     "output_type": "stream",
     "text": [
      "['comments', 'This was my first AirBnB experience. I know I will do this again. I loved CozyCottage. It was exactly what I needed. And what a great neighborhood experience. Not only did Cottage have everything I needed, I loved being able to walk out in front of the home and see city lights and Manhattan skyline lights! City Island is a real gem. I loved being able to walk up to restaurants and the market. Vegetarian, gluten free, no problem! I mean everything I needed was right there. Nice liquor store also--small but adequate. Diane was more than patient as I awaited an approval for reimbursement, holding the place for me even when she had another interested party. I even ventured into the city via public transportation. ...always a colorful experience. Diane has really made this place welcoming and functional.', 'We had absolutely LOVELY stay at the Cozy Cottage. It was my first time in New York and I could not have chosen better place.\\r\\nVery bright, comfortable, cozy, clean and homey in a wonderful and beautiful location. Our host was super helpful and responsive.\\r\\nI would love to stay here again and would recommend to anybody for quiet getaway.']\n",
      "['neighbourhood', 'City Island', 'City Island', 'City Island', 'City Island', 'City Island', 'City Island', 'City Island', 'City Island', 'City Island']\n"
     ]
    }
   ],
   "source": [
    "print(docs[:3])\n",
    "print(neighborhoods[:10])"
   ]
  },
  {
   "cell_type": "code",
   "execution_count": 33,
   "metadata": {
    "collapsed": true
   },
   "outputs": [],
   "source": [
    "from sklearn.decomposition import LatentDirichletAllocation as LDA\n",
    "from sklearn.feature_extraction.text import CountVectorizer"
   ]
  },
  {
   "cell_type": "code",
   "execution_count": 36,
   "metadata": {
    "collapsed": false
   },
   "outputs": [],
   "source": [
    "cv = CountVectorizer(stop_words = 'english', max_df=.7, min_df=50,\n",
    "                     max_features=5000)\n",
    "counts = cv.fit_transform(docs)"
   ]
  },
  {
   "cell_type": "code",
   "execution_count": 37,
   "metadata": {
    "collapsed": false
   },
   "outputs": [
    {
     "name": "stdout",
     "output_type": "stream",
     "text": [
      "(632088, 5000)\n"
     ]
    }
   ],
   "source": [
    "print(counts.shape)"
   ]
  },
  {
   "cell_type": "code",
   "execution_count": 7,
   "metadata": {
    "collapsed": true
   },
   "outputs": [],
   "source": [
    "def print_top_words(model, feature_names, n_top_words):\n",
    "    for topic_idx, topic in enumerate(model.components_):\n",
    "        print(\"Topic #%d:\" % topic_idx)\n",
    "        print(\" \".join([feature_names[i]\n",
    "                        for i in topic.argsort()[:-n_top_words - 1:-1]]))\n",
    "    print()"
   ]
  },
  {
   "cell_type": "code",
   "execution_count": 40,
   "metadata": {
    "collapsed": false,
    "scrolled": true
   },
   "outputs": [
    {
     "name": "stderr",
     "output_type": "stream",
     "text": [
      "/Users/talhabaig/anaconda2/envs/cs4300/lib/python2.7/site-packages/sklearn/decomposition/online_lda.py:508: DeprecationWarning: The default value for 'learning_method' will be changed from 'online' to 'batch' in the release 0.20. This warning was introduced in 0.18.\n",
      "  DeprecationWarning)\n"
     ]
    }
   ],
   "source": [
    "n_topic = 10\n",
    "model = LDA(n_topics=n_topic, max_iter=10, n_jobs=1, verbose=1)\n",
    "res = model.fit_transform(counts)"
   ]
  },
  {
   "cell_type": "code",
   "execution_count": 41,
   "metadata": {
    "collapsed": false
   },
   "outputs": [
    {
     "name": "stdout",
     "output_type": "stream",
     "text": [
      "Topic #0:\n",
      "incredibly di molto og il non var vi calm ben er future superb appartamento jessica och che sam een het\n",
      "Topic #1:\n",
      "room kitchen apartment bed bathroom night bedroom small space good use little living bit building floor towels air shower people\n",
      "Topic #2:\n",
      "home stay time place like feel experience felt really staying amazing wonderful nyc best airbnb comfortable just city welcome stayed\n",
      "Topic #3:\n",
      "nice didn stay room clean meet place apartment extremely local really check loft great helpful experience overall fantastic quick listing\n",
      "Topic #4:\n",
      "new york days host arrival reservation village ve canceled posting automated luggage airport day far east willing moment asked eric\n",
      "Topic #5:\n",
      "nice really good place room clean great stay host flat location house metro time friendly appartment min enjoyed recommend lot\n",
      "Topic #6:\n",
      "great apartment stay location place host clean recommend definitely perfect comfortable highly easy helpful super wonderful nyc excellent staying time\n",
      "Topic #7:\n",
      "check questions late keys happy early arrival accommodating ny hotel flight left available didn responded restaurant issue hours provided instructions\n",
      "Topic #8:\n",
      "apartment subway great close restaurants location manhattan walk stay easy place away park just neighborhood clean brooklyn located walking williamsburg\n",
      "Topic #9:\n",
      "la et en est très que el le nous muy es appartement bien und pour les die para nos dans\n",
      "\n"
     ]
    }
   ],
   "source": [
    "feature_names = cv.get_feature_names()\n",
    "print_top_words(model, feature_names, 20)"
   ]
  },
  {
   "cell_type": "code",
   "execution_count": 46,
   "metadata": {
    "collapsed": false
   },
   "outputs": [
    {
     "name": "stdout",
     "output_type": "stream",
     "text": [
      "(10, 5000)\n"
     ]
    }
   ],
   "source": [
    "print(model.components_.shape)"
   ]
  },
  {
   "cell_type": "code",
   "execution_count": 53,
   "metadata": {
    "collapsed": false
   },
   "outputs": [
    {
     "data": {
      "text/plain": [
       "array([[ 0.03333333,  0.03333333,  0.03333793,  0.36666668,  0.03333333,\n",
       "         0.03333333,  0.03333333,  0.03333333,  0.36666205,  0.03333333]])"
      ]
     },
     "execution_count": 53,
     "metadata": {},
     "output_type": "execute_result"
    }
   ],
   "source": [
    "query = \"young hip\"\n",
    "vec = cv.transform([query])\n",
    "model.transform(vec)"
   ]
  },
  {
   "cell_type": "code",
   "execution_count": 47,
   "metadata": {
    "collapsed": false
   },
   "outputs": [],
   "source": [
    "topics = [np.argmax(model.transform(doc)) for doc in counts]"
   ]
  },
  {
   "cell_type": "code",
   "execution_count": 49,
   "metadata": {
    "collapsed": true
   },
   "outputs": [],
   "source": [
    "from collections import defaultdict"
   ]
  },
  {
   "cell_type": "code",
   "execution_count": 50,
   "metadata": {
    "collapsed": false
   },
   "outputs": [],
   "source": [
    "topic_to_neighborhood = defaultdict(set)\n",
    "for i in range(len(topics)):\n",
    "    topic_to_neighborhood[topics[i]].add(neighborhoods[i])"
   ]
  },
  {
   "cell_type": "code",
   "execution_count": 60,
   "metadata": {
    "collapsed": false
   },
   "outputs": [
    {
     "name": "stdout",
     "output_type": "stream",
     "text": [
      "set(['Ozone Park', 'Greenpoint', 'Financial District', 'Kensington', 'Mount Eden', 'Ridgewood', 'Cambria Heights', 'Concourse', 'Oakwood', 'South Ozone Park', 'Glen Oaks', 'Cobble Hill', 'Inwood', 'Bay Terrace', 'Allerton', 'West Farms', 'Holliswood', 'Queens Village', 'Prospect-Lefferts Gardens', 'Rockaway Beach', 'Gramercy', 'Chelsea', 'Stapleton', 'North Riverdale', 'Astoria', 'Todt Hill', 'Clinton Hill', 'Gravesend', 'University Heights', 'Port Morris', 'Great Kills', 'Westchester Square', 'Chinatown', 'Wakefield', 'Corona', 'West Village', 'East Elmhurst', 'Downtown Brooklyn', 'Dyker Heights', 'Upper West Side', 'Harlem', 'Bay Ridge', 'Two Bridges', 'Jamaica', 'Howard Beach', 'Highbridge', 'Brooklyn Heights', 'Belmont', 'Long Island City', 'Edenwald', 'East Village', 'Hunts Point', 'South Beach', 'Schuylerville', 'Lower East Side', 'NoHo', 'Bayside', 'Baychester', 'Pelham Bay', 'Upper East Side', 'Mariners Harbor', 'Fort Greene', 'Woodlawn', 'East New York', 'Melrose', 'Unionport', 'Castle Hill', 'Bronxdale', 'Woodside', 'Greenwich Village', 'Forest Hills', 'Castleton Corners', 'College Point', 'Tribeca', 'Arden Heights', 'Middle Village', 'Dongan Hills', 'Kingsbridge', 'Hollis Hills', 'Elmhurst', 'Randall Manor', 'Bayswater', 'Morris Heights', 'Briarwood', 'Jamaica Estates', 'Flatlands', 'Rego Park', 'Throgs Neck', 'Silver Lake', 'Boerum Hill', 'Claremont Village', 'Bergen Beach', 'Williamsbridge', 'Whitestone', 'West Brighton', 'Brownsville', 'Spuyten Duyvil', 'Bushwick', 'Eltingville', 'Nolita', 'Brighton Beach', 'Red Hook', 'City Island', 'Midland Beach', 'Battery Park City', 'South Slope', 'Borough Park', 'Jackson Heights', 'Ditmars Steinway', 'Arrochar', 'Manhattan Beach', 'Emerson Hill', 'Edgemere', 'Coney Island', 'Fieldston', 'Columbia St', 'Morningside Heights', 'Tottenville', 'Clason Point', 'Cypress Hills', 'Tompkinsville', 'Flushing', \"Hell's Kitchen\", 'Grymes Hill', 'East Harlem', 'Arverne', 'Mott Haven', 'Pelham Gardens', 'Sea Gate', 'Stuyvesant Town', 'Carroll Gardens', 'Marble Hill', 'St. Albans', 'Morrisania', 'Flatbush', 'Mill Basin', 'Sunnyside', 'Windsor Terrace', 'Richmond Hill', 'Williamsburg', 'Laurelton', 'Vinegar Hill', 'Canarsie', 'Shore Acres', 'Norwood', 'Lighthouse Hill', 'Springfield Gardens', 'Theater District', 'Midtown', 'Roosevelt Island', 'Bensonhurst', 'Civic Center', 'Murray Hill', 'Gowanus', 'Concord', 'Tremont', 'Midwood', 'Riverdale', 'Van Nest', 'Kew Gardens Hills', 'Washington Heights', 'Fresh Meadows', 'New Springville', 'St. George', 'DUMBO', 'Jamaica Hills', 'Flatiron District', 'Bath Beach', 'Navy Yard', 'Parkchester', 'Crown Heights', 'Park Slope', 'Mount Hope', 'Bellerose', 'SoHo', 'Belle Harbor', 'Bedford-Stuyvesant', 'Sheepshead Bay', 'Far Rockaway', 'Concourse Village', 'Little Italy', 'Fort Hamilton', 'Sunset Park', 'Maspeth', 'Prospect Heights', 'Hollis', 'Longwood', 'Kips Bay', 'Soundview', 'Glendale', 'East Morrisania', 'East Flatbush', 'Woodhaven', 'Fordham', 'Rosedale', 'Eastchester', 'Clifton', 'Graniteville', 'Co-op City', 'Howland Hook', 'New Brighton', 'Kew Gardens'])\n"
     ]
    }
   ],
   "source": [
    "print(topic_to_neighborhood[6])"
   ]
  },
  {
   "cell_type": "code",
   "execution_count": 74,
   "metadata": {
    "collapsed": false
   },
   "outputs": [
    {
     "name": "stdout",
     "output_type": "stream",
     "text": [
      "165\n",
      "194\n",
      "201\n",
      "183\n",
      "173\n",
      "197\n",
      "202\n",
      "157\n",
      "203\n",
      "186\n"
     ]
    },
    {
     "data": {
      "text/plain": [
       "[None, None, None, None, None, None, None, None, None, None]"
      ]
     },
     "execution_count": 74,
     "metadata": {},
     "output_type": "execute_result"
    }
   ],
   "source": [
    "[print(len(topic_to_neighborhood[i])) for i in topic_to_neighborhood]"
   ]
  },
  {
   "cell_type": "code",
   "execution_count": null,
   "metadata": {
    "collapsed": true
   },
   "outputs": [],
   "source": []
  }
 ],
 "metadata": {
  "kernelspec": {
   "display_name": "Python 2",
   "language": "python",
   "name": "python2"
  },
  "language_info": {
   "codemirror_mode": {
    "name": "ipython",
    "version": 2
   },
   "file_extension": ".py",
   "mimetype": "text/x-python",
   "name": "python",
   "nbconvert_exporter": "python",
   "pygments_lexer": "ipython2",
   "version": "2.7.13"
  }
 },
 "nbformat": 4,
 "nbformat_minor": 2
}
